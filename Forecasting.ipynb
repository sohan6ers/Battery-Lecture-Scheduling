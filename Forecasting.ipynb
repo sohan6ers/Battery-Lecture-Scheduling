{
 "cells": [
  {
   "cell_type": "code",
   "execution_count": 1,
   "metadata": {},
   "outputs": [
    {
     "name": "stdout",
     "output_type": "stream",
     "text": [
      "Requirement already satisfied: lightgbm in c:\\users\\new\\anaconda3\\lib\\site-packages (3.3.2)\n",
      "Requirement already satisfied: scikit-learn!=0.22.0 in c:\\users\\new\\anaconda3\\lib\\site-packages (from lightgbm) (0.21.2)\n",
      "Requirement already satisfied: wheel in c:\\users\\new\\anaconda3\\lib\\site-packages (from lightgbm) (0.33.4)\n",
      "Requirement already satisfied: scipy in c:\\users\\new\\anaconda3\\lib\\site-packages (from lightgbm) (1.2.1)\n",
      "Requirement already satisfied: numpy in c:\\users\\new\\anaconda3\\lib\\site-packages (from lightgbm) (1.16.4)\n",
      "Requirement already satisfied: joblib>=0.11 in c:\\users\\new\\anaconda3\\lib\\site-packages (from scikit-learn!=0.22.0->lightgbm) (0.13.2)\n",
      "Note: you may need to restart the kernel to use updated packages.\n"
     ]
    }
   ],
   "source": [
    "pip install lightgbm"
   ]
  },
  {
   "cell_type": "code",
   "execution_count": 1,
   "metadata": {},
   "outputs": [],
   "source": [
    "import numpy as np\n",
    "import pandas as pd \n",
    "from matplotlib import pyplot as plt\n",
    "import seaborn as sns\n",
    "import lightgbm as lgb\n",
    "import warnings"
   ]
  },
  {
   "cell_type": "code",
   "execution_count": 112,
   "metadata": {},
   "outputs": [],
   "source": [
    "buildingdata = pd.read_csv('/Users/New/Desktop/building0.csv')"
   ]
  },
  {
   "cell_type": "code",
   "execution_count": 15,
   "metadata": {},
   "outputs": [],
   "source": [
    "buildingdata=buildingdata[:len(buildingdata)//10]"
   ]
  },
  {
   "cell_type": "code",
   "execution_count": 113,
   "metadata": {},
   "outputs": [
    {
     "data": {
      "text/html": [
       "<div>\n",
       "<style scoped>\n",
       "    .dataframe tbody tr th:only-of-type {\n",
       "        vertical-align: middle;\n",
       "    }\n",
       "\n",
       "    .dataframe tbody tr th {\n",
       "        vertical-align: top;\n",
       "    }\n",
       "\n",
       "    .dataframe thead th {\n",
       "        text-align: right;\n",
       "    }\n",
       "</style>\n",
       "<table border=\"1\" class=\"dataframe\">\n",
       "  <thead>\n",
       "    <tr style=\"text-align: right;\">\n",
       "      <th></th>\n",
       "      <th>X</th>\n",
       "      <th>series_name</th>\n",
       "      <th>start_timestamp</th>\n",
       "      <th>TimeDate</th>\n",
       "      <th>Date</th>\n",
       "      <th>Year</th>\n",
       "      <th>Season</th>\n",
       "      <th>Month</th>\n",
       "      <th>Day_of_Month</th>\n",
       "      <th>Day</th>\n",
       "      <th>Week</th>\n",
       "      <th>Hour</th>\n",
       "      <th>Minute</th>\n",
       "      <th>series_value</th>\n",
       "    </tr>\n",
       "  </thead>\n",
       "  <tbody>\n",
       "    <tr>\n",
       "      <th>101401</th>\n",
       "      <td>148806</td>\n",
       "      <td>Building0</td>\n",
       "      <td>1/10/2020 8:45</td>\n",
       "      <td>1/10/2020 8:45</td>\n",
       "      <td>1/10/2020</td>\n",
       "      <td>2020</td>\n",
       "      <td>4</td>\n",
       "      <td>Oct</td>\n",
       "      <td>1</td>\n",
       "      <td>4</td>\n",
       "      <td>40</td>\n",
       "      <td>8</td>\n",
       "      <td>45</td>\n",
       "      <td>96.9</td>\n",
       "    </tr>\n",
       "    <tr>\n",
       "      <th>101402</th>\n",
       "      <td>148807</td>\n",
       "      <td>Building0</td>\n",
       "      <td>1/10/2020 9:00</td>\n",
       "      <td>1/10/2020 9:00</td>\n",
       "      <td>1/10/2020</td>\n",
       "      <td>2020</td>\n",
       "      <td>4</td>\n",
       "      <td>Oct</td>\n",
       "      <td>1</td>\n",
       "      <td>4</td>\n",
       "      <td>40</td>\n",
       "      <td>9</td>\n",
       "      <td>0</td>\n",
       "      <td>96.9</td>\n",
       "    </tr>\n",
       "    <tr>\n",
       "      <th>101403</th>\n",
       "      <td>148808</td>\n",
       "      <td>Building0</td>\n",
       "      <td>1/10/2020 9:15</td>\n",
       "      <td>1/10/2020 9:15</td>\n",
       "      <td>1/10/2020</td>\n",
       "      <td>2020</td>\n",
       "      <td>4</td>\n",
       "      <td>Oct</td>\n",
       "      <td>1</td>\n",
       "      <td>4</td>\n",
       "      <td>40</td>\n",
       "      <td>9</td>\n",
       "      <td>15</td>\n",
       "      <td>37.4</td>\n",
       "    </tr>\n",
       "    <tr>\n",
       "      <th>101404</th>\n",
       "      <td>148809</td>\n",
       "      <td>Building0</td>\n",
       "      <td>1/10/2020 9:30</td>\n",
       "      <td>1/10/2020 9:30</td>\n",
       "      <td>1/10/2020</td>\n",
       "      <td>2020</td>\n",
       "      <td>4</td>\n",
       "      <td>Oct</td>\n",
       "      <td>1</td>\n",
       "      <td>4</td>\n",
       "      <td>40</td>\n",
       "      <td>9</td>\n",
       "      <td>30</td>\n",
       "      <td>37.4</td>\n",
       "    </tr>\n",
       "    <tr>\n",
       "      <th>101405</th>\n",
       "      <td>148810</td>\n",
       "      <td>Building0</td>\n",
       "      <td>1/10/2020 9:45</td>\n",
       "      <td>1/10/2020 9:45</td>\n",
       "      <td>1/10/2020</td>\n",
       "      <td>2020</td>\n",
       "      <td>4</td>\n",
       "      <td>Oct</td>\n",
       "      <td>1</td>\n",
       "      <td>4</td>\n",
       "      <td>40</td>\n",
       "      <td>9</td>\n",
       "      <td>45</td>\n",
       "      <td>37.4</td>\n",
       "    </tr>\n",
       "  </tbody>\n",
       "</table>\n",
       "</div>"
      ],
      "text/plain": [
       "             X series_name start_timestamp        TimeDate       Date  Year  \\\n",
       "101401  148806   Building0  1/10/2020 8:45  1/10/2020 8:45  1/10/2020  2020   \n",
       "101402  148807   Building0  1/10/2020 9:00  1/10/2020 9:00  1/10/2020  2020   \n",
       "101403  148808   Building0  1/10/2020 9:15  1/10/2020 9:15  1/10/2020  2020   \n",
       "101404  148809   Building0  1/10/2020 9:30  1/10/2020 9:30  1/10/2020  2020   \n",
       "101405  148810   Building0  1/10/2020 9:45  1/10/2020 9:45  1/10/2020  2020   \n",
       "\n",
       "        Season Month  Day_of_Month  Day  Week  Hour  Minute  series_value  \n",
       "101401       4   Oct             1    4    40     8      45          96.9  \n",
       "101402       4   Oct             1    4    40     9       0          96.9  \n",
       "101403       4   Oct             1    4    40     9      15          37.4  \n",
       "101404       4   Oct             1    4    40     9      30          37.4  \n",
       "101405       4   Oct             1    4    40     9      45          37.4  "
      ]
     },
     "execution_count": 113,
     "metadata": {},
     "output_type": "execute_result"
    }
   ],
   "source": [
    "buildingdata.tail()"
   ]
  },
  {
   "cell_type": "code",
   "execution_count": 114,
   "metadata": {},
   "outputs": [
    {
     "data": {
      "image/png": "[encoded data removed]",
      "text/plain": [
       "<Figure size 720x360 with 1 Axes>"
      ]
     },
     "metadata": {
      "needs_background": "light"
     },
     "output_type": "display_data"
    }
   ],
   "source": [
    "plt.rcParams['figure.figsize'] = [10, 5]\n",
    "\n",
    "buildingdata['series_value'].plot()\n",
    "plt.legend()\n",
    "plt.show()"
   ]
  },
  {
   "cell_type": "code",
   "execution_count": 55,
   "metadata": {},
   "outputs": [
    {
     "data": {
      "text/html": [
       "<div>\n",
       "<style scoped>\n",
       "    .dataframe tbody tr th:only-of-type {\n",
       "        vertical-align: middle;\n",
       "    }\n",
       "\n",
       "    .dataframe tbody tr th {\n",
       "        vertical-align: top;\n",
       "    }\n",
       "\n",
       "    .dataframe thead th {\n",
       "        text-align: right;\n",
       "    }\n",
       "</style>\n",
       "<table border=\"1\" class=\"dataframe\">\n",
       "  <thead>\n",
       "    <tr style=\"text-align: right;\">\n",
       "      <th></th>\n",
       "      <th>X</th>\n",
       "      <th>series_name</th>\n",
       "      <th>start_timestamp</th>\n",
       "      <th>TimeDate</th>\n",
       "      <th>Date</th>\n",
       "      <th>Year</th>\n",
       "      <th>Season</th>\n",
       "      <th>Month</th>\n",
       "      <th>Day_of_Month</th>\n",
       "      <th>Day</th>\n",
       "      <th>Week</th>\n",
       "      <th>Hour</th>\n",
       "      <th>Minute</th>\n",
       "      <th>series_value</th>\n",
       "    </tr>\n",
       "  </thead>\n",
       "  <tbody>\n",
       "    <tr>\n",
       "      <th>10135</th>\n",
       "      <td>10136</td>\n",
       "      <td>Building0</td>\n",
       "      <td>17/10/2016 22:15</td>\n",
       "      <td>17/10/2016 22:15</td>\n",
       "      <td>17/10/2016</td>\n",
       "      <td>2016</td>\n",
       "      <td>4</td>\n",
       "      <td>Oct</td>\n",
       "      <td>17</td>\n",
       "      <td>1</td>\n",
       "      <td>42</td>\n",
       "      <td>22</td>\n",
       "      <td>15</td>\n",
       "      <td>358.8</td>\n",
       "    </tr>\n",
       "    <tr>\n",
       "      <th>10136</th>\n",
       "      <td>10137</td>\n",
       "      <td>Building0</td>\n",
       "      <td>17/10/2016 22:30</td>\n",
       "      <td>17/10/2016 22:30</td>\n",
       "      <td>17/10/2016</td>\n",
       "      <td>2016</td>\n",
       "      <td>4</td>\n",
       "      <td>Oct</td>\n",
       "      <td>17</td>\n",
       "      <td>1</td>\n",
       "      <td>42</td>\n",
       "      <td>22</td>\n",
       "      <td>30</td>\n",
       "      <td>358.8</td>\n",
       "    </tr>\n",
       "    <tr>\n",
       "      <th>10137</th>\n",
       "      <td>10138</td>\n",
       "      <td>Building0</td>\n",
       "      <td>17/10/2016 22:45</td>\n",
       "      <td>17/10/2016 22:45</td>\n",
       "      <td>17/10/2016</td>\n",
       "      <td>2016</td>\n",
       "      <td>4</td>\n",
       "      <td>Oct</td>\n",
       "      <td>17</td>\n",
       "      <td>1</td>\n",
       "      <td>42</td>\n",
       "      <td>22</td>\n",
       "      <td>45</td>\n",
       "      <td>358.8</td>\n",
       "    </tr>\n",
       "    <tr>\n",
       "      <th>10138</th>\n",
       "      <td>10139</td>\n",
       "      <td>Building0</td>\n",
       "      <td>17/10/2016 23:00</td>\n",
       "      <td>17/10/2016 23:00</td>\n",
       "      <td>17/10/2016</td>\n",
       "      <td>2016</td>\n",
       "      <td>4</td>\n",
       "      <td>Oct</td>\n",
       "      <td>17</td>\n",
       "      <td>1</td>\n",
       "      <td>42</td>\n",
       "      <td>23</td>\n",
       "      <td>0</td>\n",
       "      <td>358.8</td>\n",
       "    </tr>\n",
       "    <tr>\n",
       "      <th>10139</th>\n",
       "      <td>10140</td>\n",
       "      <td>Building0</td>\n",
       "      <td>17/10/2016 23:15</td>\n",
       "      <td>17/10/2016 23:15</td>\n",
       "      <td>17/10/2016</td>\n",
       "      <td>2016</td>\n",
       "      <td>4</td>\n",
       "      <td>Oct</td>\n",
       "      <td>17</td>\n",
       "      <td>1</td>\n",
       "      <td>42</td>\n",
       "      <td>23</td>\n",
       "      <td>15</td>\n",
       "      <td>273.8</td>\n",
       "    </tr>\n",
       "  </tbody>\n",
       "</table>\n",
       "</div>"
      ],
      "text/plain": [
       "           X series_name   start_timestamp          TimeDate        Date  \\\n",
       "10135  10136   Building0  17/10/2016 22:15  17/10/2016 22:15  17/10/2016   \n",
       "10136  10137   Building0  17/10/2016 22:30  17/10/2016 22:30  17/10/2016   \n",
       "10137  10138   Building0  17/10/2016 22:45  17/10/2016 22:45  17/10/2016   \n",
       "10138  10139   Building0  17/10/2016 23:00  17/10/2016 23:00  17/10/2016   \n",
       "10139  10140   Building0  17/10/2016 23:15  17/10/2016 23:15  17/10/2016   \n",
       "\n",
       "       Year  Season Month  Day_of_Month  Day  Week  Hour  Minute  series_value  \n",
       "10135  2016       4   Oct            17    1    42    22      15         358.8  \n",
       "10136  2016       4   Oct            17    1    42    22      30         358.8  \n",
       "10137  2016       4   Oct            17    1    42    22      45         358.8  \n",
       "10138  2016       4   Oct            17    1    42    23       0         358.8  \n",
       "10139  2016       4   Oct            17    1    42    23      15         273.8  "
      ]
     },
     "execution_count": 55,
     "metadata": {},
     "output_type": "execute_result"
    }
   ],
   "source": [
    "buildingdata.tail()"
   ]
  },
  {
   "cell_type": "code",
   "execution_count": 6,
   "metadata": {},
   "outputs": [],
   "source": [
    "#Testing "
   ]
  },
  {
   "cell_type": "code",
   "execution_count": 115,
   "metadata": {},
   "outputs": [],
   "source": [
    "#Creating X Y \n",
    "def create_xy(series, window_size, prediction_horizon, shuffle = False):\n",
    "    x = []\n",
    "    y = []\n",
    "    for i in range(0, len(series)):\n",
    "        if len(series[(i + window_size):(i + window_size + prediction_horizon)]) < prediction_horizon:\n",
    "            break\n",
    "        x.append(series[i:(i + window_size)])\n",
    "        y.append(series[(i + window_size):(i + window_size + prediction_horizon)])\n",
    "    x = np.array(x)\n",
    "    y = np.array(y)\n",
    "    return x,y"
   ]
  },
  {
   "cell_type": "code",
   "execution_count": null,
   "metadata": {},
   "outputs": [],
   "source": [
    "#Hyperparameters\n",
    "window_size = 10000\n",
    "prediction_horizon = 1\n",
    "\n",
    "#Train Test Split\n",
    "test_size = 1000\n",
    "split = len(buildingdata['series_value']) - test_size\n",
    "\n",
    "train_series = buildingdata['series_value'][:split]\n",
    "test_series = buildingdata['series_value'][split-window_size:]\n",
    "\n",
    "\n",
    "train_x, train_y = create_xy(train_series.to_numpy(), window_size, prediction_horizon)\n",
    "test_x, test_y = create_xy(test_series.to_numpy(), window_size, prediction_horizon)\n",
    "\n",
    "train_y = train_y.flatten()\n",
    "test_y = test_y.flatten()\n",
    "\n",
    "print(train_x.shape)\n",
    "print(train_y.shape)\n",
    "print(test_x.shape)\n",
    "print(test_y.shape)"
   ]
  },
  {
   "cell_type": "code",
   "execution_count": null,
   "metadata": {},
   "outputs": [],
   "source": [
    "plt.rcParams['figure.figsize'] = [10, 5]\n",
    "\n",
    "buildingdata['series_value'][-test_size:].plot(label = 'Building 0 Test')\n",
    "plt.legend()\n",
    "plt.show()"
   ]
  },
  {
   "cell_type": "code",
   "execution_count": null,
   "metadata": {},
   "outputs": [],
   "source": [
    "#Tbh don't know much about lightgbm parameters enough to mess around yet\n",
    "import lightgbm as lgb\n",
    "\"\"\"\n",
    "params = {\n",
    "    'n_estimators': 2000,\n",
    "    'max_depth': 4,\n",
    "    'num_leaves': 2**4,\n",
    "    'learning_rate': 0.1,\n",
    "    'boosting_type': 'dart'\n",
    "}\n",
    "\"\"\"\n",
    "model = lgb.LGBMRegressor(first_metric_only = True)\n",
    "\n",
    "model.fit(train_x, train_y,\n",
    "          eval_metric = 'l1', \n",
    "          eval_set = [(test_x, test_y)],\n",
    "          early_stopping_rounds = 10,\n",
    "          verbose = 0)"
   ]
  },
  {
   "cell_type": "code",
   "execution_count": 121,
   "metadata": {},
   "outputs": [
    {
     "name": "stdout",
     "output_type": "stream",
     "text": [
      "     Naive MAE: 3.8292\n",
      "  s2-Naive MAE: 58.7252\n",
      " s3-Naive MAE: 79.1384\n",
      "s4-Naive MAE: 52.4820\n",
      "s5-Naive MAE: 21.3224\n",
      "  LightGBM MAE: 6.9518\n"
     ]
    },
    {
     "data": {
      "image/png": "[encoded data removed]",
      "text/plain": [
       "<Figure size 720x360 with 1 Axes>"
      ]
     },
     "metadata": {
      "needs_background": "light"
     },
     "output_type": "display_data"
    }
   ],
   "source": [
    "forecast = model.predict(test_x)\n",
    "s1_naive = buildingdata['series_value'][-501:-1].to_numpy()\n",
    "s2_naive = buildingdata['series_value'][-1001:-501].to_numpy()\n",
    "s3_naive = buildingdata['series_value'][-1501:-1001].to_numpy()\n",
    "s4_naive = buildingdata['series_value'][-2001:-1501].to_numpy()\n",
    "s5_naive = buildingdata['series_value'][-2501:-2001].to_numpy()\n",
    "\n",
    "print('     Naive MAE: %.4f' % (np.mean(np.abs(s1_naive - test_y))))\n",
    "print('  s2-Naive MAE: %.4f' % (np.mean(np.abs(s2_naive - test_y))))\n",
    "print(' s3-Naive MAE: %.4f' % (np.mean(np.abs(s3_naive - test_y))))\n",
    "print('s4-Naive MAE: %.4f' % (np.mean(np.abs(s4_naive - test_y))))\n",
    "print('s5-Naive MAE: %.4f' % (np.mean(np.abs(s5_naive - test_y))))\n",
    "print('  LightGBM MAE: %.4f' % (np.mean(np.abs(forecast - test_y))))\n",
    "\n",
    "plt.rcParams['figure.figsize'] = [10, 5]\n",
    "\n",
    "buildingdata['series_value'][-test_size:].plot(label = 'True')\n",
    "plt.plot(forecast, label = 'Forecast')\n",
    "plt.legend()\n",
    "plt.show()"
   ]
  },
  {
   "cell_type": "code",
   "execution_count": 120,
   "metadata": {},
   "outputs": [
    {
     "data": {
      "text/plain": [
       "[<matplotlib.lines.Line2D at 0x195f9116048>]"
      ]
     },
     "execution_count": 120,
     "metadata": {},
     "output_type": "execute_result"
    },
    {
     "data": {
      "image/png": "[encoded data removed]",
      "text/plain": [
       "<Figure size 720x360 with 1 Axes>"
      ]
     },
     "metadata": {
      "needs_background": "light"
     },
     "output_type": "display_data"
    }
   ],
   "source": [
    "plt.plot(forecast, label = 'Forecast')"
   ]
  },
  {
   "cell_type": "code",
   "execution_count": null,
   "metadata": {},
   "outputs": [],
   "source": []
  }
 ],
 "metadata": {
  "kernelspec": {
   "display_name": "Python 3",
   "language": "python",
   "name": "python3"
  },
  "language_info": {
   "codemirror_mode": {
    "name": "ipython",
    "version": 3
   },
   "file_extension": ".py",
   "mimetype": "text/x-python",
   "name": "python",
   "nbconvert_exporter": "python",
   "pygments_lexer": "ipython3",
   "version": "3.7.3"
  }
 },
 "nbformat": 4,
 "nbformat_minor": 2
}
