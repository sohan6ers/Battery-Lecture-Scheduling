{
 "cells": [
  {
   "cell_type": "code",
   "execution_count": 1,
   "id": "7a7fb587",
   "metadata": {},
   "outputs": [],
   "source": [
    "import pandas as pd"
   ]
  },
  {
   "cell_type": "code",
   "execution_count": 2,
   "id": "dad8cdd9",
   "metadata": {},
   "outputs": [],
   "source": [
    "BatteryUsage=[[0, 0, 0, 0, 0, 0, 0, 0, 0, 0, 0, 0, 0, 0, 0, 0, 0, 0, 10, 0, 0, 0, 0, 0], [0, 0, 0, 0, 0, 0, 0, 0, 0, 0, 0, 0, 0, 0, 0, 0, 0, 0, 10, 0, 0, 0, 0, 0], [0, 0, 0, 0, 0, 0, 0, 0, 0, 0, 0, 0, 0, 0, 0, 0, 0, 10, 0, 0, 0, 0, 0, 0], [0, 0, 0, 0, 0, 0, 0, 0, 0, 0, 0, 0, 0, 0, 0, 0, 0, 10, 0, 0, 0, 0, 0, 0], [0, 0, 0, 0, 0, 0, 0, 0, 0, 0, 0, 0, 0, 0, 0, 0, 0, 0, 10, 0, 0, 0, 0, 0], [0, 0, 0, 0, 0, 0, 10, 0, 0, 0, 0, 0, 0, 0, 0, 0, 0, 0, 0, 0, 0, 0, 0, 0], [10, 0, 0, 0, 0, 0, 0, 0, 0, 0, 0, 0, 0, 0, 0, 0, 0, 0, 0, 0, 0, 0, 0, 0], [0, 0, 0, 0, 0, 0, 0, 0, 0, 0, 0, 0, 0, 0, 0, 0, 0, 0, 10, 0, 0, 0, 0, 0], [0, 0, 0, 0, 0, 0, 0, 0, 0, 0, 0, 0, 0, 0, 0, 0, 0, 0, 10, 0, 0, 0, 0, 0], [0, 0, 0, 0, 0, 0, 0, 0, 0, 0, 0, 0, 0, 0, 0, 0, 0, 0, 10, 0, 0, 0, 0, 0], [0, 0, 0, 0, 0, 0, 10, 0, 0, 0, 0, 0, 0, 0, 0, 0, 0, 0, 0, 0, 0, 0, 0, 0], [0, 0, 0, 0, 0, 0, 0, 0, 0, 0, 0, 0, 0, 0, 0, 0, 0, 10, 0, 0, 0, 0, 0, 0], [0, 0, 0, 0, 0, 0, 0, 0, 0, 0, 0, 0, 0, 0, 0, 0, 0, 0, 10, 0, 0, 0, 0, 0], [0, 0, 0, 0, 0, 0, 0, 0, 0, 0, 0, 0, 0, 0, 0, 0, 0, 0, 0, 10, 0, 0, 0, 0], [0, 0, 0, 0, 0, 0, 0, 0, 0, 0, 0, 0, 0, 0, 0, 0, 0, 0, 10, 0, 0, 0, 0, 0], [0, 0, 0, 0, 0, 0, 0, 0, 0, 0, 0, 0, 0, 0, 0, 0, 0, 0, 0, 10, 0, 0, 0, 0], [0, 0, 0, 0, 0, 0, 0, 0, 0, 0, 0, 0, 0, 0, 0, 0, 0, 0, 10, 0, 0, 0, 0, 0], [0, 0, 0, 0, 0, 0, 0, 0, 0, 0, 0, 0, 0, 0, 0, 0, 0, 10, 0, 0, 0, 0, 0, 0], [0, 0, 0, 0, 0, 0, 0, 0, 0, 0, 0, 0, 0, 0, 0, 0, 10, 0, 0, 0, 0, 0, 0, 0], [0, 0, 0, 0, 0, 0, 0, 0, 0, 0, 0, 0, 0, 0, 0, 0, 0, 0, 0, 0, 0, 0, 10, 0], [0, 0, 0, 0, 0, 0, 0, 0, 0, 0, 0, 0, 0, 0, 0, 0, 0, 0, 10, 0, 0, 0, 0, 0], [0, 0, 0, 0, 0, 0, 0, 0, 0, 0, 0, 0, 0, 0, 0, 0, 0, 10, 0, 0, 0, 0, 0, 0], [0, 0, 0, 0, 0, 0, 10, 0, 0, 0, 0, 0, 0, 0, 0, 0, 0, 0, 0, 0, 0, 0, 0, 0], [0, 0, 0, 0, 0, 10, 0, 0, 0, 0, 0, 0, 0, 0, 0, 0, 0, 0, 0, 0, 0, 0, 0, 0], [0, 0, 0, 0, 0, 0, 0, 0, 0, 0, 0, 0, 0, 0, 0, 0, 0, 10, 0, 0, 0, 0, 0, 0], [0, 0, 0, 0, 0, 0, 0, 0, 0, 0, 0, 0, 0, 0, 0, 0, 0, 0, 10, 0, 0, 0, 0, 0], [0, 0, 0, 0, 0, 0, 0, 0, 0, 0, 0, 0, 0, 0, 0, 0, 0, 0, 10, 0, 0, 0, 0, 0], [0, 0, 0, 0, 0, 0, 0, 0, 0, 0, 0, 0, 0, 0, 10, 0, 0, 0, 0, 0, 0, 0, 0, 0], [0, 0, 0, 0, 0, 0, 0, 0, 0, 0, 0, 0, 0, 0, 0, 0, 0, 0, 10, 0, 0, 0, 0, 0], [0, 0, 0, 0, 0, 0, 0, 0, 0, 0, 0, 0, 0, 0, 0, 0, 0, 0, 10, 0, 0, 0, 0, 0]]"
   ]
  },
  {
   "cell_type": "code",
   "execution_count": 4,
   "id": "7934fea6",
   "metadata": {},
   "outputs": [
    {
     "data": {
      "text/html": [
       "<div>\n",
       "<style scoped>\n",
       "    .dataframe tbody tr th:only-of-type {\n",
       "        vertical-align: middle;\n",
       "    }\n",
       "\n",
       "    .dataframe tbody tr th {\n",
       "        vertical-align: top;\n",
       "    }\n",
       "\n",
       "    .dataframe thead th {\n",
       "        text-align: right;\n",
       "    }\n",
       "</style>\n",
       "<table border=\"1\" class=\"dataframe\">\n",
       "  <thead>\n",
       "    <tr style=\"text-align: right;\">\n",
       "      <th></th>\n",
       "      <th>Unnamed: 0</th>\n",
       "      <th>datetime</th>\n",
       "      <th>prediction</th>\n",
       "    </tr>\n",
       "  </thead>\n",
       "  <tbody>\n",
       "    <tr>\n",
       "      <th>0</th>\n",
       "      <td>0</td>\n",
       "      <td>1/11/2020 0:00</td>\n",
       "      <td>0.013414</td>\n",
       "    </tr>\n",
       "    <tr>\n",
       "      <th>1</th>\n",
       "      <td>1</td>\n",
       "      <td>1/11/2020 1:00</td>\n",
       "      <td>0.053511</td>\n",
       "    </tr>\n",
       "    <tr>\n",
       "      <th>2</th>\n",
       "      <td>2</td>\n",
       "      <td>1/11/2020 2:00</td>\n",
       "      <td>0.004387</td>\n",
       "    </tr>\n",
       "    <tr>\n",
       "      <th>3</th>\n",
       "      <td>3</td>\n",
       "      <td>1/11/2020 3:00</td>\n",
       "      <td>0.069264</td>\n",
       "    </tr>\n",
       "    <tr>\n",
       "      <th>4</th>\n",
       "      <td>4</td>\n",
       "      <td>1/11/2020 4:00</td>\n",
       "      <td>0.069258</td>\n",
       "    </tr>\n",
       "  </tbody>\n",
       "</table>\n",
       "</div>"
      ],
      "text/plain": [
       "   Unnamed: 0        datetime  prediction\n",
       "0           0  1/11/2020 0:00    0.013414\n",
       "1           1  1/11/2020 1:00    0.053511\n",
       "2           2  1/11/2020 2:00    0.004387\n",
       "3           3  1/11/2020 3:00    0.069264\n",
       "4           4  1/11/2020 4:00    0.069258"
      ]
     },
     "execution_count": 4,
     "metadata": {},
     "output_type": "execute_result"
    }
   ],
   "source": [
    "data = pd.read_csv(\"Aggregated Solar Data.csv\")\n",
    "data.head(5)"
   ]
  },
  {
   "cell_type": "code",
   "execution_count": 5,
   "id": "3a0849bb",
   "metadata": {},
   "outputs": [],
   "source": [
    "SolarProduction_raw =data[\"prediction\"].tolist()"
   ]
  },
  {
   "cell_type": "code",
   "execution_count": 6,
   "id": "ed94d545",
   "metadata": {},
   "outputs": [
    {
     "name": "stdout",
     "output_type": "stream",
     "text": [
      "720\n",
      "[0.013414281, 0.0535114217999999, 0.0043867516999999, 0.0692642827, 0.06925828214, 0.06925399813, 0.32170824001, 1.862377101087, 7.912083507847001, 19.19432027, 40.975872077000005, 64.66353448699999, 80.09350621499999, 90.826505299, 79.60608159899999, 80.99063565499999, 70.00899130799999, 74.55448145700001, 80.243545037, 41.081826328, 18.105517264, 22.736087679, 8.000522113999999, 0.707763552]\n",
      "24\n"
     ]
    }
   ],
   "source": [
    "print(len(SolarProduction_raw))\n",
    "print(SolarProduction_raw[0:24])\n",
    "print(len(SolarProduction_raw[0:24]))"
   ]
  },
  {
   "cell_type": "code",
   "execution_count": 7,
   "id": "e7eb7fc7",
   "metadata": {},
   "outputs": [],
   "source": [
    "def convert_list_of_list(lis):\n",
    "    output = []\n",
    "    day = []\n",
    "    count = 0\n",
    "    for i in range(len(lis)):\n",
    "        day.append(round(lis[i],2)) #2 digits \n",
    "        count +=1 \n",
    "        if count==24:\n",
    "            output.append(day)\n",
    "            day=[]\n",
    "            count=0\n",
    "    return output "
   ]
  },
  {
   "cell_type": "code",
   "execution_count": 8,
   "id": "e5dfc06b",
   "metadata": {},
   "outputs": [],
   "source": [
    "SolarProduction= convert_list_of_list(SolarProduction_raw)"
   ]
  },
  {
   "cell_type": "code",
   "execution_count": 9,
   "id": "1755cb70",
   "metadata": {},
   "outputs": [
    {
     "name": "stdout",
     "output_type": "stream",
     "text": [
      "days:  30\n",
      "each day:  24\n"
     ]
    }
   ],
   "source": [
    "print(\"days: \" ,len(SolarProduction))\n",
    "print(\"each day: \",len(SolarProduction[0]))"
   ]
  },
  {
   "cell_type": "code",
   "execution_count": 12,
   "id": "f5b121ad",
   "metadata": {},
   "outputs": [],
   "source": [
    "#Used, Production is data for each day \n",
    "def Battery_remain(Used,Production):\n",
    "    \n",
    "    battery_left = 10 #battery is full at the start , max = 10 \n",
    "    output_daily = []\n",
    "    \n",
    "    for i in range(len(Used)): #they have same len\n",
    "        hourly_usage = Used[i]\n",
    "        hourly_production = Production[i]\n",
    "        \n",
    "        battery_left = battery_left - hourly_usage  \n",
    "\n",
    "        #1.If Battery has nothing left \n",
    "        if battery_left <=0:\n",
    "            battery_left = 0 #set to 0 , avoid negative values \n",
    "            \n",
    "            battery_left += hourly_production #add the production \n",
    "            \n",
    "            #if battery exceed 10, set to 10 \n",
    "            if battery_left >=10:\n",
    "                battery_left = 10\n",
    "                output_daily.append(round(battery_left,2))\n",
    "            \n",
    "            else: \n",
    "                output_daily.append(round(battery_left,2))\n",
    "                \n",
    "        \n",
    "        #2. If the battery left is greater than 0 \n",
    "        else: \n",
    "           \n",
    "            battery_left += hourly_production #add the production \n",
    "            \n",
    "            #if battery exceed 10, set to 10 \n",
    "            if battery_left >=10:\n",
    "                battery_left = 10\n",
    "                output_daily.append(round(battery_left,2))\n",
    "            \n",
    "            else: \n",
    "                output_daily.append(round(battery_left,2))\n",
    "          \n",
    "    return output_daily\n",
    "\n",
    "\n",
    "# B,S are data for the whole month\n",
    "\n",
    "def Remain(B,S):  \n",
    "    #B is list of list \n",
    "    #S is list of list \n",
    "    final= [ ]\n",
    "    for i in range(len(B)):\n",
    "        day_usage = B[i] #day list \n",
    "        day_production = S[i] #day list \n",
    "        day_remain = Battery_remain(day_usage,day_production)\n",
    "        final.append(day_remain)\n",
    "\n",
    "    return final \n"
   ]
  },
  {
   "cell_type": "code",
   "execution_count": 14,
   "id": "6b83b763",
   "metadata": {
    "scrolled": true
   },
   "outputs": [
    {
     "name": "stdout",
     "output_type": "stream",
     "text": [
      "[0, 0, 0, 0, 0, 0, 0, 0, 0, 0, 0, 0, 0, 0, 0, 0, 0, 0, 10, 0, 0, 0, 0, 0]\n",
      "[0, 0, 0, 0, 0, 0, 0, 0, 0, 0, 0, 0, 0, 0, 0, 0, 0, 0, 10, 0, 0, 0, 0, 0]\n",
      "[0, 0, 0, 0, 0, 0, 0, 0, 0, 0, 0, 0, 0, 0, 0, 0, 0, 10, 0, 0, 0, 0, 0, 0]\n",
      "[0, 0, 0, 0, 0, 0, 0, 0, 0, 0, 0, 0, 0, 0, 0, 0, 0, 10, 0, 0, 0, 0, 0, 0]\n",
      "[0, 0, 0, 0, 0, 0, 0, 0, 0, 0, 0, 0, 0, 0, 0, 0, 0, 0, 10, 0, 0, 0, 0, 0]\n",
      "[0, 0, 0, 0, 0, 0, 10, 0, 0, 0, 0, 0, 0, 0, 0, 0, 0, 0, 0, 0, 0, 0, 0, 0]\n",
      "[10, 0, 0, 0, 0, 0, 0, 0, 0, 0, 0, 0, 0, 0, 0, 0, 0, 0, 0, 0, 0, 0, 0, 0]\n",
      "[0, 0, 0, 0, 0, 0, 0, 0, 0, 0, 0, 0, 0, 0, 0, 0, 0, 0, 10, 0, 0, 0, 0, 0]\n",
      "[0, 0, 0, 0, 0, 0, 0, 0, 0, 0, 0, 0, 0, 0, 0, 0, 0, 0, 10, 0, 0, 0, 0, 0]\n",
      "[0, 0, 0, 0, 0, 0, 0, 0, 0, 0, 0, 0, 0, 0, 0, 0, 0, 0, 10, 0, 0, 0, 0, 0]\n",
      "[0, 0, 0, 0, 0, 0, 10, 0, 0, 0, 0, 0, 0, 0, 0, 0, 0, 0, 0, 0, 0, 0, 0, 0]\n",
      "[0, 0, 0, 0, 0, 0, 0, 0, 0, 0, 0, 0, 0, 0, 0, 0, 0, 10, 0, 0, 0, 0, 0, 0]\n",
      "[0, 0, 0, 0, 0, 0, 0, 0, 0, 0, 0, 0, 0, 0, 0, 0, 0, 0, 10, 0, 0, 0, 0, 0]\n",
      "[0, 0, 0, 0, 0, 0, 0, 0, 0, 0, 0, 0, 0, 0, 0, 0, 0, 0, 0, 10, 0, 0, 0, 0]\n",
      "[0, 0, 0, 0, 0, 0, 0, 0, 0, 0, 0, 0, 0, 0, 0, 0, 0, 0, 10, 0, 0, 0, 0, 0]\n",
      "[0, 0, 0, 0, 0, 0, 0, 0, 0, 0, 0, 0, 0, 0, 0, 0, 0, 0, 0, 10, 0, 0, 0, 0]\n",
      "[0, 0, 0, 0, 0, 0, 0, 0, 0, 0, 0, 0, 0, 0, 0, 0, 0, 0, 10, 0, 0, 0, 0, 0]\n",
      "[0, 0, 0, 0, 0, 0, 0, 0, 0, 0, 0, 0, 0, 0, 0, 0, 0, 10, 0, 0, 0, 0, 0, 0]\n",
      "[0, 0, 0, 0, 0, 0, 0, 0, 0, 0, 0, 0, 0, 0, 0, 0, 10, 0, 0, 0, 0, 0, 0, 0]\n",
      "[0, 0, 0, 0, 0, 0, 0, 0, 0, 0, 0, 0, 0, 0, 0, 0, 0, 0, 0, 0, 0, 0, 10, 0]\n",
      "[0, 0, 0, 0, 0, 0, 0, 0, 0, 0, 0, 0, 0, 0, 0, 0, 0, 0, 10, 0, 0, 0, 0, 0]\n",
      "[0, 0, 0, 0, 0, 0, 0, 0, 0, 0, 0, 0, 0, 0, 0, 0, 0, 10, 0, 0, 0, 0, 0, 0]\n",
      "[0, 0, 0, 0, 0, 0, 10, 0, 0, 0, 0, 0, 0, 0, 0, 0, 0, 0, 0, 0, 0, 0, 0, 0]\n",
      "[0, 0, 0, 0, 0, 10, 0, 0, 0, 0, 0, 0, 0, 0, 0, 0, 0, 0, 0, 0, 0, 0, 0, 0]\n",
      "[0, 0, 0, 0, 0, 0, 0, 0, 0, 0, 0, 0, 0, 0, 0, 0, 0, 10, 0, 0, 0, 0, 0, 0]\n",
      "[0, 0, 0, 0, 0, 0, 0, 0, 0, 0, 0, 0, 0, 0, 0, 0, 0, 0, 10, 0, 0, 0, 0, 0]\n",
      "[0, 0, 0, 0, 0, 0, 0, 0, 0, 0, 0, 0, 0, 0, 0, 0, 0, 0, 10, 0, 0, 0, 0, 0]\n",
      "[0, 0, 0, 0, 0, 0, 0, 0, 0, 0, 0, 0, 0, 0, 10, 0, 0, 0, 0, 0, 0, 0, 0, 0]\n",
      "[0, 0, 0, 0, 0, 0, 0, 0, 0, 0, 0, 0, 0, 0, 0, 0, 0, 0, 10, 0, 0, 0, 0, 0]\n",
      "[0, 0, 0, 0, 0, 0, 0, 0, 0, 0, 0, 0, 0, 0, 0, 0, 0, 0, 10, 0, 0, 0, 0, 0]\n",
      "days:  30\n",
      "each day:  24\n"
     ]
    }
   ],
   "source": [
    "for day in BatteryUsage:\n",
    "    print(day)\n",
    "print(\"days: \" ,len(BatteryUsage))\n",
    "print(\"each day: \",len(BatteryUsage[0]))\n"
   ]
  },
  {
   "cell_type": "code",
   "execution_count": 16,
   "id": "60e26cbb",
   "metadata": {},
   "outputs": [
    {
     "name": "stdout",
     "output_type": "stream",
     "text": [
      "[0.01, 0.05, 0.0, 0.07, 0.07, 0.07, 0.32, 1.86, 7.91, 19.19, 40.98, 64.66, 80.09, 90.83, 79.61, 80.99, 70.01, 74.55, 80.24, 41.08, 18.11, 22.74, 8.0, 0.71]\n",
      "[1.97, 1.3, 0.99, 0.85, 0.79, 0.51, 0.42, 2.92, 8.34, 25.31, 54.36, 76.21, 84.78, 79.76, 95.11, 84.66, 100.08, 78.01, 62.58, 47.89, 32.98, 19.93, 7.39, 1.65]\n",
      "[0.25, 0.49, 0.59, 0.63, 0.6, 0.78, 1.69, 3.86, 10.37, 32.54, 54.55, 73.17, 90.16, 82.0, 98.66, 94.37, 95.09, 76.43, 67.22, 50.27, 34.31, 19.0, 6.09, 2.16]\n",
      "[0.81, 0.6, 0.55, 0.61, 0.58, 0.77, 1.77, 4.91, 12.97, 33.1, 57.26, 76.11, 83.82, 76.97, 84.25, 72.84, 68.6, 66.12, 61.15, 44.82, 24.05, 18.04, 5.36, 1.77]\n",
      "[0.19, 0.57, 0.61, 0.51, 0.5, 0.24, 1.02, 4.08, 12.57, 30.72, 53.63, 71.0, 81.49, 76.41, 83.96, 91.82, 90.48, 90.34, 81.05, 47.94, 25.14, 16.7, 6.45, 1.91]\n",
      "[0.0, 0.12, 0.08, 0.0, 0.01, 0.26, 1.59, 5.25, 13.88, 33.09, 56.01, 73.18, 87.35, 89.82, 97.38, 67.37, 65.69, 55.05, 47.97, 36.03, 20.84, 14.11, 5.74, 2.21]\n",
      "[0.12, 0.6, 0.63, 0.54, 0.53, 0.22, 1.07, 4.02, 11.14, 30.72, 49.66, 69.73, 79.36, 81.53, 90.82, 92.91, 91.52, 75.64, 59.72, 53.19, 31.14, 18.61, 5.06, 1.32]\n",
      "[0.42, 0.39, 0.36, 0.28, 0.27, 0.02, 1.59, 4.85, 11.86, 31.09, 53.07, 75.21, 90.12, 94.71, 99.63, 87.96, 93.52, 81.99, 82.51, 64.42, 40.92, 22.67, 5.43, 0.65]\n",
      "[0.1, 0.43, 0.5, 0.56, 0.55, 0.83, 2.58, 6.54, 12.64, 32.09, 54.03, 72.06, 76.28, 92.01, 107.95, 101.22, 95.52, 79.47, 71.14, 55.03, 35.45, 21.22, 7.12, 1.79]\n",
      "[0.38, 0.44, 0.56, 0.62, 0.61, 0.9, 3.01, 7.94, 16.73, 36.08, 57.72, 75.57, 83.29, 83.2, 85.84, 78.38, 82.21, 70.62, 52.14, 37.85, 22.41, 15.79, 7.3, 2.89]\n",
      "[0.4, 0.12, 0.03, 0.1, 0.1, 0.56, 2.62, 6.91, 16.14, 34.79, 53.23, 76.17, 82.0, 85.81, 89.1, 91.39, 85.84, 81.63, 79.95, 59.06, 31.42, 22.76, 7.3, 1.63]\n",
      "[0.54, 0.22, 0.29, 0.36, 0.35, 0.89, 2.93, 6.75, 14.61, 32.27, 56.33, 69.56, 81.83, 84.59, 75.84, 83.32, 65.99, 58.45, 55.37, 40.18, 23.33, 18.58, 8.09, 2.39]\n",
      "[0.56, 0.46, 0.33, 0.25, 0.24, 0.41, 2.53, 6.15, 14.41, 32.15, 54.86, 72.28, 87.56, 97.91, 96.23, 83.5, 81.41, 82.32, 77.4, 53.33, 28.19, 16.28, 5.91, 1.91]\n",
      "[0.02, 0.2, 0.11, 0.03, 0.01, 0.71, 3.35, 7.15, 16.61, 36.67, 56.2, 71.54, 80.9, 82.78, 82.68, 87.66, 92.9, 89.18, 76.92, 61.99, 41.24, 21.72, 4.9, 0.42]\n",
      "[0.04, 0.2, 0.28, 0.36, 0.36, 1.3, 4.89, 10.52, 20.8, 36.91, 58.75, 79.55, 93.07, 102.54, 96.51, 96.05, 97.56, 93.12, 80.51, 63.66, 40.3, 24.23, 7.13, 1.42]\n",
      "[0.1, 0.57, 0.74, 0.8, 0.96, 1.96, 5.4, 11.38, 21.04, 38.3, 59.12, 73.58, 79.13, 87.96, 99.26, 98.87, 97.28, 92.48, 82.22, 61.96, 38.74, 20.61, 7.05, 1.67]\n",
      "[0.93, 0.81, 0.94, 1.01, 1.26, 2.45, 5.59, 10.4, 18.46, 34.33, 54.51, 76.42, 88.14, 95.6, 96.09, 93.9, 96.9, 89.56, 75.89, 61.83, 38.96, 23.26, 7.18, 1.69]\n",
      "[0.55, 0.82, 0.93, 0.99, 1.33, 2.73, 6.32, 11.91, 21.79, 35.28, 55.3, 77.11, 91.31, 100.73, 100.9, 95.39, 91.67, 80.16, 56.82, 49.81, 30.79, 19.5, 8.99, 3.52]\n",
      "[1.13, 0.53, 0.83, 0.89, 1.27, 2.99, 6.21, 11.76, 21.62, 39.4, 57.81, 78.65, 89.4, 92.28, 93.16, 97.4, 97.9, 92.04, 82.5, 64.42, 40.84, 19.9, 6.71, 1.94]\n",
      "[0.95, 0.75, 0.91, 0.98, 1.58, 3.73, 7.33, 12.47, 23.38, 40.84, 62.63, 83.57, 95.72, 101.12, 102.53, 104.03, 98.34, 84.45, 73.57, 58.06, 37.65, 24.68, 7.59, 2.03]\n",
      "[0.25, 0.93, 0.95, 1.21, 1.9, 3.98, 8.24, 14.79, 24.24, 39.0, 59.71, 79.48, 89.97, 95.53, 98.93, 98.69, 101.4, 96.86, 83.64, 66.75, 41.82, 24.07, 7.66, 1.95]\n",
      "[0.55, 0.94, 1.05, 1.38, 2.26, 4.33, 8.66, 15.44, 25.61, 41.14, 60.84, 79.37, 90.84, 95.64, 99.04, 87.1, 85.04, 76.61, 61.86, 50.17, 30.02, 18.38, 6.78, 3.24]\n",
      "[1.13, 0.79, 0.74, 1.16, 2.26, 4.72, 8.9, 16.31, 26.78, 42.02, 60.21, 72.33, 78.51, 84.27, 85.73, 94.14, 94.5, 88.37, 80.08, 65.84, 39.35, 22.41, 6.87, 1.79]\n",
      "[0.23, 0.5, 0.63, 1.11, 2.5, 4.62, 8.62, 16.13, 29.41, 43.02, 62.22, 81.28, 92.29, 101.1, 98.88, 95.98, 95.09, 87.08, 78.35, 59.96, 33.66, 20.83, 6.99, 1.96]\n",
      "[0.37, 0.58, 0.72, 1.42, 3.16, 5.51, 8.88, 15.02, 27.09, 40.56, 58.63, 74.13, 80.63, 85.99, 94.87, 91.33, 87.72, 83.71, 76.86, 61.3, 35.95, 20.74, 6.8, 1.95]\n",
      "[0.15, 0.26, 0.58, 1.38, 3.1, 5.84, 9.73, 16.24, 28.31, 43.08, 61.44, 71.77, 79.76, 82.96, 93.65, 95.29, 95.01, 84.8, 71.95, 43.73, 25.2, 15.19, 6.11, 2.8]\n",
      "[0.87, 0.34, 0.54, 1.51, 3.28, 6.23, 10.25, 17.09, 28.76, 44.29, 57.71, 71.44, 81.09, 88.27, 87.48, 85.31, 86.51, 89.09, 85.26, 67.87, 40.93, 21.98, 7.08, 1.47]\n",
      "[0.08, 0.19, 0.73, 1.91, 4.0, 6.77, 10.54, 16.8, 29.62, 45.57, 61.89, 76.31, 87.33, 95.06, 94.82, 85.37, 88.02, 71.64, 57.73, 44.18, 27.15, 18.79, 7.78, 3.09]\n",
      "[0.59, 0.18, 0.55, 2.06, 3.81, 6.58, 9.46, 15.63, 28.88, 44.21, 63.18, 78.45, 82.03, 84.9, 93.68, 80.67, 95.79, 76.65, 75.83, 63.41, 40.02, 20.06, 5.1, 1.91]\n",
      "[0.05, 0.1, 0.75, 2.6, 4.55, 6.75, 10.07, 15.59, 28.04, 41.2, 58.17, 69.39, 80.6, 84.58, 85.71, 84.49, 87.97, 84.41, 76.48, 66.19, 39.98, 20.0, 5.03, 1.85]\n",
      "days:  30\n",
      "each day:  24\n"
     ]
    }
   ],
   "source": [
    "for day in SolarProduction:\n",
    "    print(day)\n",
    "\n",
    "print(\"days: \" ,len(SolarProduction))\n",
    "print(\"each day: \",len(SolarProduction[0]))"
   ]
  },
  {
   "cell_type": "code",
   "execution_count": 13,
   "id": "198b9eca",
   "metadata": {},
   "outputs": [
    {
     "name": "stdout",
     "output_type": "stream",
     "text": [
      "[10, 10, 10, 10, 10, 10, 10, 10, 10, 10, 10, 10, 10, 10, 10, 10, 10, 10, 10, 10, 10, 10, 10, 10]\n",
      "[10, 10, 10, 10, 10, 10, 10, 10, 10, 10, 10, 10, 10, 10, 10, 10, 10, 10, 10, 10, 10, 10, 10, 10]\n",
      "[10, 10, 10, 10, 10, 10, 10, 10, 10, 10, 10, 10, 10, 10, 10, 10, 10, 10, 10, 10, 10, 10, 10, 10]\n",
      "[10, 10, 10, 10, 10, 10, 10, 10, 10, 10, 10, 10, 10, 10, 10, 10, 10, 10, 10, 10, 10, 10, 10, 10]\n",
      "[10, 10, 10, 10, 10, 10, 10, 10, 10, 10, 10, 10, 10, 10, 10, 10, 10, 10, 10, 10, 10, 10, 10, 10]\n",
      "[10, 10, 10, 10, 10, 10, 1.59, 6.84, 10, 10, 10, 10, 10, 10, 10, 10, 10, 10, 10, 10, 10, 10, 10, 10]\n",
      "[0.12, 0.72, 1.35, 1.89, 2.42, 2.64, 3.71, 7.73, 10, 10, 10, 10, 10, 10, 10, 10, 10, 10, 10, 10, 10, 10, 10, 10]\n",
      "[10, 10, 10, 10, 10, 10, 10, 10, 10, 10, 10, 10, 10, 10, 10, 10, 10, 10, 10, 10, 10, 10, 10, 10]\n",
      "[10, 10, 10, 10, 10, 10, 10, 10, 10, 10, 10, 10, 10, 10, 10, 10, 10, 10, 10, 10, 10, 10, 10, 10]\n",
      "[10, 10, 10, 10, 10, 10, 10, 10, 10, 10, 10, 10, 10, 10, 10, 10, 10, 10, 10, 10, 10, 10, 10, 10]\n",
      "[10, 10, 10, 10, 10, 10, 2.62, 9.53, 10, 10, 10, 10, 10, 10, 10, 10, 10, 10, 10, 10, 10, 10, 10, 10]\n",
      "[10, 10, 10, 10, 10, 10, 10, 10, 10, 10, 10, 10, 10, 10, 10, 10, 10, 10, 10, 10, 10, 10, 10, 10]\n",
      "[10, 10, 10, 10, 10, 10, 10, 10, 10, 10, 10, 10, 10, 10, 10, 10, 10, 10, 10, 10, 10, 10, 10, 10]\n",
      "[10, 10, 10, 10, 10, 10, 10, 10, 10, 10, 10, 10, 10, 10, 10, 10, 10, 10, 10, 10, 10, 10, 10, 10]\n",
      "[10, 10, 10, 10, 10, 10, 10, 10, 10, 10, 10, 10, 10, 10, 10, 10, 10, 10, 10, 10, 10, 10, 10, 10]\n",
      "[10, 10, 10, 10, 10, 10, 10, 10, 10, 10, 10, 10, 10, 10, 10, 10, 10, 10, 10, 10, 10, 10, 10, 10]\n",
      "[10, 10, 10, 10, 10, 10, 10, 10, 10, 10, 10, 10, 10, 10, 10, 10, 10, 10, 10, 10, 10, 10, 10, 10]\n",
      "[10, 10, 10, 10, 10, 10, 10, 10, 10, 10, 10, 10, 10, 10, 10, 10, 10, 10, 10, 10, 10, 10, 10, 10]\n",
      "[10, 10, 10, 10, 10, 10, 10, 10, 10, 10, 10, 10, 10, 10, 10, 10, 10, 10, 10, 10, 10, 10, 10, 10]\n",
      "[10, 10, 10, 10, 10, 10, 10, 10, 10, 10, 10, 10, 10, 10, 10, 10, 10, 10, 10, 10, 10, 10, 7.59, 9.62]\n",
      "[10, 10, 10, 10, 10, 10, 10, 10, 10, 10, 10, 10, 10, 10, 10, 10, 10, 10, 10, 10, 10, 10, 10, 10]\n",
      "[10, 10, 10, 10, 10, 10, 10, 10, 10, 10, 10, 10, 10, 10, 10, 10, 10, 10, 10, 10, 10, 10, 10, 10]\n",
      "[10, 10, 10, 10, 10, 10, 8.9, 10, 10, 10, 10, 10, 10, 10, 10, 10, 10, 10, 10, 10, 10, 10, 10, 10]\n",
      "[10, 10, 10, 10, 10, 4.62, 10, 10, 10, 10, 10, 10, 10, 10, 10, 10, 10, 10, 10, 10, 10, 10, 10, 10]\n",
      "[10, 10, 10, 10, 10, 10, 10, 10, 10, 10, 10, 10, 10, 10, 10, 10, 10, 10, 10, 10, 10, 10, 10, 10]\n",
      "[10, 10, 10, 10, 10, 10, 10, 10, 10, 10, 10, 10, 10, 10, 10, 10, 10, 10, 10, 10, 10, 10, 10, 10]\n",
      "[10, 10, 10, 10, 10, 10, 10, 10, 10, 10, 10, 10, 10, 10, 10, 10, 10, 10, 10, 10, 10, 10, 10, 10]\n",
      "[10, 10, 10, 10, 10, 10, 10, 10, 10, 10, 10, 10, 10, 10, 10, 10, 10, 10, 10, 10, 10, 10, 10, 10]\n",
      "[10, 10, 10, 10, 10, 10, 10, 10, 10, 10, 10, 10, 10, 10, 10, 10, 10, 10, 10, 10, 10, 10, 10, 10]\n",
      "[10, 10, 10, 10, 10, 10, 10, 10, 10, 10, 10, 10, 10, 10, 10, 10, 10, 10, 10, 10, 10, 10, 10, 10]\n"
     ]
    }
   ],
   "source": [
    "lis = Remain(BatteryUsage,SolarProduction)\n",
    "\n",
    "for day in lis:\n",
    "    print(day)"
   ]
  },
  {
   "cell_type": "code",
   "execution_count": 17,
   "id": "b0950f59",
   "metadata": {},
   "outputs": [
    {
     "name": "stdout",
     "output_type": "stream",
     "text": [
      "[10, 0, 0, 0, 0, 0, 0, 0, 0, 0, 0, 0, 0, 0, 0, 0, 0, 0, 0, 0, 0, 0, 0, 0]\n"
     ]
    }
   ],
   "source": [
    "print(BatteryUsage[6]) #batteryUsage "
   ]
  },
  {
   "cell_type": "code",
   "execution_count": 18,
   "id": "2965d07e",
   "metadata": {},
   "outputs": [
    {
     "name": "stdout",
     "output_type": "stream",
     "text": [
      "[0.12, 0.6, 0.63, 0.54, 0.53, 0.22, 1.07, 4.02, 11.14, 30.72, 49.66, 69.73, 79.36, 81.53, 90.82, 92.91, 91.52, 75.64, 59.72, 53.19, 31.14, 18.61, 5.06, 1.32]\n"
     ]
    }
   ],
   "source": [
    "print(SolarProduction[6]) #SolarProduction "
   ]
  },
  {
   "cell_type": "code",
   "execution_count": 19,
   "id": "1d1d6651",
   "metadata": {},
   "outputs": [
    {
     "name": "stdout",
     "output_type": "stream",
     "text": [
      "[0.12, 0.72, 1.35, 1.89, 2.42, 2.64, 3.71, 7.73, 10, 10, 10, 10, 10, 10, 10, 10, 10, 10, 10, 10, 10, 10, 10, 10]\n"
     ]
    }
   ],
   "source": [
    "print(lis[6]) #battery remain "
   ]
  },
  {
   "cell_type": "code",
   "execution_count": 20,
   "id": "3992fa2f",
   "metadata": {},
   "outputs": [
    {
     "name": "stdout",
     "output_type": "stream",
     "text": [
      "[100, 100, 100, 100, 100, 100, 100, 100, 100, 100, 100, 100, 100, 100, 100, 100, 100, 100, 100, 100, 100, 100, 100, 100]\n"
     ]
    }
   ],
   "source": [
    "#convert to percentage, value * 10 \n",
    "\n",
    "for i in range(len(lis)):\n",
    "    for j in range(len(lis[i])):\n",
    "        og_number = lis[i][j] * 10\n",
    "        lis[i][j]=og_number\n",
    "        \n",
    "#100 means 100% which is full \n",
    "#23.5 means 23.5% "
   ]
  },
  {
   "cell_type": "code",
   "execution_count": 22,
   "id": "72a303ab",
   "metadata": {},
   "outputs": [
    {
     "name": "stdout",
     "output_type": "stream",
     "text": [
      "[1.2, 7.199999999999999, 13.5, 18.9, 24.2, 26.400000000000002, 37.1, 77.30000000000001, 100, 100, 100, 100, 100, 100, 100, 100, 100, 100, 100, 100, 100, 100, 100, 100]\n"
     ]
    }
   ],
   "source": [
    "print(lis[6])"
   ]
  },
  {
   "cell_type": "code",
   "execution_count": 23,
   "id": "0304aa6f",
   "metadata": {},
   "outputs": [
    {
     "name": "stdout",
     "output_type": "stream",
     "text": [
      "720\n"
     ]
    }
   ],
   "source": [
    "final = []\n",
    "for i in range(len(lis)):\n",
    "    for j in range(len(lis[i])):\n",
    "        final.append(lis[i][j])\n",
    "        \n",
    "print(len(final))"
   ]
  },
  {
   "cell_type": "code",
   "execution_count": 24,
   "id": "42248dac",
   "metadata": {},
   "outputs": [
    {
     "data": {
      "text/plain": [
       "0        1/11/2020 0:00\n",
       "1        1/11/2020 1:00\n",
       "2        1/11/2020 2:00\n",
       "3        1/11/2020 3:00\n",
       "4        1/11/2020 4:00\n",
       "             ...       \n",
       "715    30/11/2020 19:00\n",
       "716    30/11/2020 20:00\n",
       "717    30/11/2020 21:00\n",
       "718    30/11/2020 22:00\n",
       "719    30/11/2020 23:00\n",
       "Name: datetime, Length: 720, dtype: object"
      ]
     },
     "execution_count": 24,
     "metadata": {},
     "output_type": "execute_result"
    }
   ],
   "source": [
    "datetime = data[\"datetime\"]\n",
    "datetime"
   ]
  },
  {
   "cell_type": "code",
   "execution_count": 28,
   "id": "6fc2125f",
   "metadata": {},
   "outputs": [
    {
     "data": {
      "text/html": [
       "<div>\n",
       "<style scoped>\n",
       "    .dataframe tbody tr th:only-of-type {\n",
       "        vertical-align: middle;\n",
       "    }\n",
       "\n",
       "    .dataframe tbody tr th {\n",
       "        vertical-align: top;\n",
       "    }\n",
       "\n",
       "    .dataframe thead th {\n",
       "        text-align: right;\n",
       "    }\n",
       "</style>\n",
       "<table border=\"1\" class=\"dataframe\">\n",
       "  <thead>\n",
       "    <tr style=\"text-align: right;\">\n",
       "      <th></th>\n",
       "      <th>datetime</th>\n",
       "    </tr>\n",
       "  </thead>\n",
       "  <tbody>\n",
       "    <tr>\n",
       "      <th>0</th>\n",
       "      <td>1/11/2020 0:00</td>\n",
       "    </tr>\n",
       "    <tr>\n",
       "      <th>1</th>\n",
       "      <td>1/11/2020 1:00</td>\n",
       "    </tr>\n",
       "    <tr>\n",
       "      <th>2</th>\n",
       "      <td>1/11/2020 2:00</td>\n",
       "    </tr>\n",
       "    <tr>\n",
       "      <th>3</th>\n",
       "      <td>1/11/2020 3:00</td>\n",
       "    </tr>\n",
       "    <tr>\n",
       "      <th>4</th>\n",
       "      <td>1/11/2020 4:00</td>\n",
       "    </tr>\n",
       "    <tr>\n",
       "      <th>...</th>\n",
       "      <td>...</td>\n",
       "    </tr>\n",
       "    <tr>\n",
       "      <th>715</th>\n",
       "      <td>30/11/2020 19:00</td>\n",
       "    </tr>\n",
       "    <tr>\n",
       "      <th>716</th>\n",
       "      <td>30/11/2020 20:00</td>\n",
       "    </tr>\n",
       "    <tr>\n",
       "      <th>717</th>\n",
       "      <td>30/11/2020 21:00</td>\n",
       "    </tr>\n",
       "    <tr>\n",
       "      <th>718</th>\n",
       "      <td>30/11/2020 22:00</td>\n",
       "    </tr>\n",
       "    <tr>\n",
       "      <th>719</th>\n",
       "      <td>30/11/2020 23:00</td>\n",
       "    </tr>\n",
       "  </tbody>\n",
       "</table>\n",
       "<p>720 rows × 1 columns</p>\n",
       "</div>"
      ],
      "text/plain": [
       "             datetime\n",
       "0      1/11/2020 0:00\n",
       "1      1/11/2020 1:00\n",
       "2      1/11/2020 2:00\n",
       "3      1/11/2020 3:00\n",
       "4      1/11/2020 4:00\n",
       "..                ...\n",
       "715  30/11/2020 19:00\n",
       "716  30/11/2020 20:00\n",
       "717  30/11/2020 21:00\n",
       "718  30/11/2020 22:00\n",
       "719  30/11/2020 23:00\n",
       "\n",
       "[720 rows x 1 columns]"
      ]
     },
     "execution_count": 28,
     "metadata": {},
     "output_type": "execute_result"
    }
   ],
   "source": [
    "df = pd.DataFrame(datetime)\n",
    "df"
   ]
  },
  {
   "cell_type": "code",
   "execution_count": 29,
   "id": "8e888da3",
   "metadata": {},
   "outputs": [],
   "source": [
    "df[\"BatteryPercentage\"] = final"
   ]
  },
  {
   "cell_type": "code",
   "execution_count": 32,
   "id": "0e8dbc5c",
   "metadata": {},
   "outputs": [
    {
     "data": {
      "text/html": [
       "<div>\n",
       "<style scoped>\n",
       "    .dataframe tbody tr th:only-of-type {\n",
       "        vertical-align: middle;\n",
       "    }\n",
       "\n",
       "    .dataframe tbody tr th {\n",
       "        vertical-align: top;\n",
       "    }\n",
       "\n",
       "    .dataframe thead th {\n",
       "        text-align: right;\n",
       "    }\n",
       "</style>\n",
       "<table border=\"1\" class=\"dataframe\">\n",
       "  <thead>\n",
       "    <tr style=\"text-align: right;\">\n",
       "      <th></th>\n",
       "      <th>datetime</th>\n",
       "      <th>BatteryPercentage</th>\n",
       "    </tr>\n",
       "  </thead>\n",
       "  <tbody>\n",
       "    <tr>\n",
       "      <th>0</th>\n",
       "      <td>1/11/2020 0:00</td>\n",
       "      <td>100.0</td>\n",
       "    </tr>\n",
       "    <tr>\n",
       "      <th>1</th>\n",
       "      <td>1/11/2020 1:00</td>\n",
       "      <td>100.0</td>\n",
       "    </tr>\n",
       "    <tr>\n",
       "      <th>2</th>\n",
       "      <td>1/11/2020 2:00</td>\n",
       "      <td>100.0</td>\n",
       "    </tr>\n",
       "    <tr>\n",
       "      <th>3</th>\n",
       "      <td>1/11/2020 3:00</td>\n",
       "      <td>100.0</td>\n",
       "    </tr>\n",
       "    <tr>\n",
       "      <th>4</th>\n",
       "      <td>1/11/2020 4:00</td>\n",
       "      <td>100.0</td>\n",
       "    </tr>\n",
       "  </tbody>\n",
       "</table>\n",
       "</div>"
      ],
      "text/plain": [
       "         datetime  BatteryPercentage\n",
       "0  1/11/2020 0:00              100.0\n",
       "1  1/11/2020 1:00              100.0\n",
       "2  1/11/2020 2:00              100.0\n",
       "3  1/11/2020 3:00              100.0\n",
       "4  1/11/2020 4:00              100.0"
      ]
     },
     "execution_count": 32,
     "metadata": {},
     "output_type": "execute_result"
    }
   ],
   "source": [
    "\n",
    "df.head(5)"
   ]
  },
  {
   "cell_type": "code",
   "execution_count": 33,
   "id": "81228034",
   "metadata": {},
   "outputs": [],
   "source": [
    "#df.to_csv(\"BatteryPercentage.csv\",index=False)"
   ]
  },
  {
   "cell_type": "code",
   "execution_count": 37,
   "id": "d7308877",
   "metadata": {},
   "outputs": [],
   "source": [
    "import matplotlib.pyplot as plt"
   ]
  },
  {
   "cell_type": "code",
   "execution_count": 38,
   "id": "72f6dbd8",
   "metadata": {},
   "outputs": [
    {
     "data": {
      "text/plain": [
       "[<matplotlib.lines.Line2D at 0x7fe785a4cfd0>]"
      ]
     },
     "execution_count": 38,
     "metadata": {},
     "output_type": "execute_result"
    },
    {
     "data": {
      "image/png": "[encoded data removed]",
      "text/plain": [
       "<Figure size 432x288 with 1 Axes>"
      ]
     },
     "metadata": {
      "needs_background": "light"
     },
     "output_type": "display_data"
    }
   ],
   "source": [
    "plt.plot(df[\"datetime\"],df[\"BatteryPercentage\"])"
   ]
  }
 ],
 "metadata": {
  "kernelspec": {
   "display_name": "Python 3",
   "language": "python",
   "name": "python3"
  },
  "language_info": {
   "codemirror_mode": {
    "name": "ipython",
    "version": 3
   },
   "file_extension": ".py",
   "mimetype": "text/x-python",
   "name": "python",
   "nbconvert_exporter": "python",
   "pygments_lexer": "ipython3",
   "version": "3.8.8"
  }
 },
 "nbformat": 4,
 "nbformat_minor": 5
}
